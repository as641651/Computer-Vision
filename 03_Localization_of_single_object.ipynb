{
 "cells": [
  {
   "cell_type": "markdown",
   "metadata": {},
   "source": [
    "## Classification and localization of single object\n",
    "\n",
    "When we are sure that only one object will be present in the image and we want to draw bounding boxes around that object\n",
    "\n",
    "On top of the classification model, have **another set of layers to regress bounding box co-ordinates**. The CNN is usally something that has been pre-trained for classification.\n",
    "\n",
    "The **two loss functions can be weighted sumed into a single loss** for joint fine-tuining.\n",
    "\n",
    "<img src=\"files/class_loc.png\" width=700px />"
   ]
  },
  {
   "cell_type": "markdown",
   "metadata": {},
   "source": [
    "### Human pose estimation\n",
    "\n",
    "For a problem of pose estimation, we might want **a model that will classify the right pose and also outputs the joint positions**. So, we can use a similar approach as in the previous model and instead of bounding box co-ordinates, one can regress a set of joint positions \n",
    "\n",
    "<img src=\"files/pose.png\" width=700px />\n",
    "\n",
    "<img src=\"files/pose_loss.png\" width=700px />"
   ]
  },
  {
   "cell_type": "markdown",
   "metadata": {},
   "source": [
    "### Face detection and identification"
   ]
  },
  {
   "cell_type": "markdown",
   "metadata": {},
   "source": [
    "TODO"
   ]
  },
  {
   "cell_type": "code",
   "execution_count": null,
   "metadata": {},
   "outputs": [],
   "source": []
  }
 ],
 "metadata": {
  "kernelspec": {
   "display_name": "Python 3",
   "language": "python",
   "name": "python3"
  },
  "language_info": {
   "codemirror_mode": {
    "name": "ipython",
    "version": 3
   },
   "file_extension": ".py",
   "mimetype": "text/x-python",
   "name": "python",
   "nbconvert_exporter": "python",
   "pygments_lexer": "ipython3",
   "version": "3.4.3"
  }
 },
 "nbformat": 4,
 "nbformat_minor": 2
}
