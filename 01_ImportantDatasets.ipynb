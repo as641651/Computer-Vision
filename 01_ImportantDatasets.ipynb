{
 "cells": [
  {
   "cell_type": "markdown",
   "metadata": {},
   "source": [
    "## Lec 01 notes\n",
    "\n",
    "### First datasets developed to aid computer vision research"
   ]
  },
  {
   "cell_type": "markdown",
   "metadata": {},
   "source": [
    "**Pascal VOC** \n",
    "\n",
    "> 11.5K images organized in 20 classes. Also contains bounding boxe anotation and segmentation mask\n",
    "\n",
    "> Visual object challenge conducted between 2006 - 20012. \n",
    "\n",
    "\n",
    "**Image net** :\n",
    "\n",
    "> Dataset containing 14M images organized into 22K categories. \n",
    "\n",
    "> **ImageNet classification Challenge** (starting 2009) : Test set containing 1000 object classes, 1431167 images. Algorithm should produce the correct label in top 5 predictions for a sample to be evaluated as a success. In 2015, **REsNET** achieved a error rate of 3.57% which was lesser than Human error rate 5.1% \n",
    "\n",
    "\n",
    "\n",
    "<img src=\"files/imagenet_error.png\" width=\"500px\"/>\n",
    "\n",
    "Notice the drop in error rate  in 2012. This was the CNN model - AlexNet, which gave impetus for using CNNs. However, the first CNN model used for computer vision task was developed in 1998 by Yann LeCun's group which was used for **digit classification** (This dataset was called **MNIST** and it became the hello world problem of computer vision). The reason for this success to be truely realized only in 2012 was because of key advents in computational speed with the arrival of GPUs. Another reason was the availablity of large labelled datasets. \n",
    "\n",
    "But **Object Classification** is just a first level problem. We then moved on to **Object detection** and **Semantic segmentation**. The holy grail of computer vision is to **understand the image** (or sequence of images) a.k.a **understanding the scene** "
   ]
  },
  {
   "cell_type": "markdown",
   "metadata": {},
   "source": [
    "**Hello world dataset for image classification** \n",
    "\n",
    "> **CIFAR10** : 10 classes, 60K images (32x32 pixels, 3 Channels)"
   ]
  },
  {
   "cell_type": "markdown",
   "metadata": {},
   "source": [
    "### Lecture video\n",
    "\n",
    "> Click [here](https://www.youtube.com/watch?v=vT1JzLTH4G4&index=2&list=PL3FW7Lu3i5JvHM8ljYj-zLfQRF3EO8sYv&t=0s) for video"
   ]
  }
 ],
 "metadata": {
  "kernelspec": {
   "display_name": "Python 3",
   "language": "python",
   "name": "python3"
  },
  "language_info": {
   "codemirror_mode": {
    "name": "ipython",
    "version": 3
   },
   "file_extension": ".py",
   "mimetype": "text/x-python",
   "name": "python",
   "nbconvert_exporter": "python",
   "pygments_lexer": "ipython3",
   "version": "3.4.3"
  }
 },
 "nbformat": 4,
 "nbformat_minor": 2
}
