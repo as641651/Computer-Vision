{
 "cells": [
  {
   "cell_type": "markdown",
   "metadata": {},
   "source": [
    "## Object detection\n",
    "\n",
    "We should be able to detect **multiple objects belonging to multiple classes in same image**\n",
    "\n",
    "> Generate **region proposals** (Image patches that are likely to contain objects)\n",
    "\n",
    "> Perform **classification over proposals**\n",
    "\n",
    "### Faster-RCNN\n",
    "\n",
    "Here is the **FasterRCNN object detector** (0.2s per image for 38 classes)\n",
    "\n",
    "<img src=\"files/faster_rcnn.png\" width=700px />"
   ]
  },
  {
   "cell_type": "markdown",
   "metadata": {},
   "source": [
    "There are **4 losses**\n",
    "\n",
    ">1) **object or not object loss** in Region proposal network  (although a binary loss, in the paper we see a two class softmax loss used)\n",
    "\n",
    ">2) **Bounding box regression loss** in RPN\n",
    "\n",
    ">3) **Classification loss**\n",
    "\n",
    ">4) **Bounding box adjustment regression loss** "
   ]
  },
  {
   "cell_type": "markdown",
   "metadata": {},
   "source": [
    "### YOLO / SSD\n",
    "\n",
    "**You only look once** / **Single Shot descriptor**\n",
    "\n",
    "> Here the **region proposal layer** outputs the **class score instead of binary score**. Therefore, we just have a single serial neural network (may be with skip connections) \n",
    "\n",
    "<img src=\"files/yolo.png\" />\n",
    "\n",
    "> The anchor generation and GT matching are similar to Faster RCNN.\n",
    "\n",
    "> Its much **faster than Faster RCNN but less accurate**. It is **suitable for real time applications**"
   ]
  },
  {
   "cell_type": "markdown",
   "metadata": {},
   "source": [
    "#### Important paper : [Speed and accuracy tradeoffs for modern object detectors](https://arxiv.org/pdf/1611.10012.pdf)\n",
    "\n",
    "> Helps you decide which architecture to choose for your application"
   ]
  },
  {
   "cell_type": "markdown",
   "metadata": {},
   "source": [
    "### Using region proposal features for image captioning"
   ]
  },
  {
   "cell_type": "markdown",
   "metadata": {},
   "source": [
    "**Dense captioning architecture**\n",
    "\n",
    "<img src=\"files/densecap.png\" />"
   ]
  },
  {
   "cell_type": "markdown",
   "metadata": {},
   "source": [
    "### 3D object detection"
   ]
  },
  {
   "cell_type": "markdown",
   "metadata": {},
   "source": [
    "TODO"
   ]
  },
  {
   "cell_type": "code",
   "execution_count": null,
   "metadata": {},
   "outputs": [],
   "source": []
  }
 ],
 "metadata": {
  "kernelspec": {
   "display_name": "Python 3",
   "language": "python",
   "name": "python3"
  },
  "language_info": {
   "codemirror_mode": {
    "name": "ipython",
    "version": 3
   },
   "file_extension": ".py",
   "mimetype": "text/x-python",
   "name": "python",
   "nbconvert_exporter": "python",
   "pygments_lexer": "ipython3",
   "version": "3.4.3"
  }
 },
 "nbformat": 4,
 "nbformat_minor": 2
}
