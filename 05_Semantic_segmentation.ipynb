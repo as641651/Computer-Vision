{
 "cells": [
  {
   "cell_type": "markdown",
   "metadata": {},
   "source": [
    "## Semantic segmentation\n",
    "\n",
    "We **assign a category label to every pixel in an image**. Therefore, **loss is incurred at every pixel**\n",
    "\n",
    "> **Input image** : CxHxW, where C is the number of channels\n",
    "\n",
    "> **Output Image** : KxHxW, where K is the number of categories\n"
   ]
  },
  {
   "cell_type": "markdown",
   "metadata": {},
   "source": [
    "### Fully convolutional architecture\n",
    "\n",
    "<img src=\"files/fcn_seg.png\" width=700px  />"
   ]
  },
  {
   "cell_type": "markdown",
   "metadata": {},
   "source": [
    "### Upsampling\n",
    "\n",
    "Upsampling can be done by **transpose convolutions**. The use of word transpose becomes clear when we look at convolution operation as **circulant matrix multiplication operation**\n",
    "\n",
    "<img src=\"files/conv_mat.png\" width=700px />"
   ]
  },
  {
   "cell_type": "markdown",
   "metadata": {},
   "source": [
    "<img src=\"files/trans_conv.png\" width=600px/>"
   ]
  },
  {
   "cell_type": "markdown",
   "metadata": {},
   "source": [
    "**max-unpooling operation**\n",
    "\n",
    "<img src=\"files/max_unpool.png\" width=700px/>"
   ]
  },
  {
   "cell_type": "markdown",
   "metadata": {},
   "source": [
    "### Instance segmentation\n",
    "\n",
    "> Object detection + Semantic segmentation\n",
    "\n",
    "> Need mask proposals from image. \n",
    "\n",
    "> **Mask RCNN** is built on top of **Faster RCNN**, where bounding box coordinates go through **bilinear pooling** to extract the region and pixel wise classification is done"
   ]
  },
  {
   "cell_type": "code",
   "execution_count": null,
   "metadata": {},
   "outputs": [],
   "source": []
  }
 ],
 "metadata": {
  "kernelspec": {
   "display_name": "Python 3",
   "language": "python",
   "name": "python3"
  },
  "language_info": {
   "codemirror_mode": {
    "name": "ipython",
    "version": 3
   },
   "file_extension": ".py",
   "mimetype": "text/x-python",
   "name": "python",
   "nbconvert_exporter": "python",
   "pygments_lexer": "ipython3",
   "version": "3.4.3"
  }
 },
 "nbformat": 4,
 "nbformat_minor": 2
}
